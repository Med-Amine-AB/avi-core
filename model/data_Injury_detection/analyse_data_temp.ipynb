{
 "cells": [
  {
   "cell_type": "code",
   "execution_count": 2,
   "id": "59200868-f831-4103-8605-5f94a8de871b",
   "metadata": {},
   "outputs": [],
   "source": [
    "import pandas as pd\n",
    "\n",
    "# Charger le fichier CSV avec low_memory=False\n",
    "df = pd.read_csv('merged_data.csv', low_memory=False)"
   ]
  },
  {
   "cell_type": "code",
   "execution_count": 3,
   "id": "0232d63a-781c-44de-b251-0c6a6f352bc9",
   "metadata": {},
   "outputs": [],
   "source": [
    "# Garder uniquement la colonne TEMP\n",
    "df = df[['TEMP']]\n",
    "\n",
    "# Sauvegarder le fichier modifié\n",
    "df.to_csv('merged_data.csv', index=False)"
   ]
  }
 ],
 "metadata": {
  "kernelspec": {
   "display_name": "Python 3 (ipykernel)",
   "language": "python",
   "name": "python3"
  },
  "language_info": {
   "codemirror_mode": {
    "name": "ipython",
    "version": 3
   },
   "file_extension": ".py",
   "mimetype": "text/x-python",
   "name": "python",
   "nbconvert_exporter": "python",
   "pygments_lexer": "ipython3",
   "version": "3.11.8"
  }
 },
 "nbformat": 4,
 "nbformat_minor": 5
}
