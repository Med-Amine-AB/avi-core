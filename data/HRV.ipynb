{
 "cells": [
  {
   "cell_type": "code",
   "execution_count": 2,
   "id": "7c29f05d-d9e1-4813-b65c-3ad799b979e1",
   "metadata": {},
   "outputs": [
    {
     "name": "stdout",
     "output_type": "stream",
     "text": [
      "✅ Done! Generated 1000000 rows of HRV data in hrv_data.csv\n"
     ]
    }
   ],
   "source": [
    "import random\n",
    "import csv\n",
    "\n",
    "def generate_hrv_data(num_rows=1_000_000, filename=\"hrv_data.csv\"):\n",
    "    data = []\n",
    "\n",
    "    for i in range(1, num_rows + 1):\n",
    "        hrv = random.uniform(70, 130)  # Healthy HRV range\n",
    "        data.append({\n",
    "            \"id\": i,\n",
    "            \"hrv\": round(hrv, 2)\n",
    "        })\n",
    "\n",
    "    fieldnames = [\"id\", \"hrv\"]\n",
    "    with open(filename, mode=\"w\", newline=\"\") as f:\n",
    "        writer = csv.DictWriter(f, fieldnames=fieldnames)\n",
    "        writer.writeheader()\n",
    "        writer.writerows(data)\n",
    "\n",
    "    print(f\"✅ Done! Generated {num_rows} rows of HRV data in {filename}\")\n",
    "\n",
    "# --- Run it ---\n",
    "generate_hrv_data(1_000_000, \"hrv_data.csv\")"
   ]
  },
  {
   "cell_type": "code",
   "execution_count": null,
   "id": "a18451dc-f7fb-4027-a5d6-5cad8b0e9ec9",
   "metadata": {},
   "outputs": [],
   "source": []
  }
 ],
 "metadata": {
  "kernelspec": {
   "display_name": "Python 3 (ipykernel)",
   "language": "python",
   "name": "python3"
  },
  "language_info": {
   "codemirror_mode": {
    "name": "ipython",
    "version": 3
   },
   "file_extension": ".py",
   "mimetype": "text/x-python",
   "name": "python",
   "nbconvert_exporter": "python",
   "pygments_lexer": "ipython3",
   "version": "3.12.4"
  }
 },
 "nbformat": 4,
 "nbformat_minor": 5
}
